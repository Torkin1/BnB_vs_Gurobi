{
 "cells": [
  {
   "cell_type": "code",
   "execution_count": 14,
   "metadata": {},
   "outputs": [],
   "source": [
    "import sys\n",
    "sys.path.append(\"../\")\n",
    "\n",
    "from logic.sms.entities import SingleMachineScheduling, Job, Machine\n",
    "from logic.sms.cbnb import CombinatorialBnB\n",
    "from logic.sms.sptf import SPTFRuleScheduler\n",
    "from logic.sms.completions_sum import WeightedCompletionsSum\n",
    "from logic.sms.gurobi import GurobiSolver, UpdateValue, SMS_LP_minWeightedSum_timeIndexed\n",
    "\n",
    "from copy import deepcopy\n",
    "from time import time\n",
    "import csv\n",
    "from func_timeout import func_set_timeout, FunctionTimedOut\n",
    "import matplotlib.pyplot as plt\n",
    "import numpy as np\n",
    "from timeit import timeit\n",
    "from cProfile import Profile\n",
    "from pstats import Stats\n",
    "from pyprof2calltree import convert, visualize\n",
    "\n",
    "TIMEOUT = 60 * 10    # 10 minutes\n",
    "\n",
    "def profile(p, objective, solver):\n",
    "    \n",
    "    error = None\n",
    "    elapsed = None\n",
    "    solverName = type(solver).__name__\n",
    "\n",
    "    p.objective = objective\n",
    "    p.solver = solver\n",
    "    try:\n",
    "        timeit_timeout = func_set_timeout(TIMEOUT)(timeit)\n",
    "        elapsed = timeit_timeout(\"p.solve\", globals={\"p\": p}, number=1)\n",
    "        if p.value == None or p.value == np.inf or p.value == -np.inf or np.isnan(p.value):\n",
    "             error = p.value\n",
    "    except (Exception, FunctionTimedOut) as e:\n",
    "        error = e\n",
    "    return elapsed, error, solverName\n",
    "\n",
    "def profileNJobs(job_sequences, dumpName):\n",
    "        with open(dumpName + \".csv\", \"w\") as output:\n",
    "            writer = csv.DictWriter(output, [\"solver\", \"jobs\", \"elapsed\", \"error\"], lineterminator='\\n', delimiter=',')\n",
    "            writer.writeheader()\n",
    "            for jobs in job_sequences:\n",
    "                elapsed, error, solverName = profile(SingleMachineScheduling(deepcopy(jobs), Machine(0)), WeightedCompletionsSum(), CombinatorialBnB(SPTFRuleScheduler))\n",
    "                writer.writerow({\"solver\": solverName, \"jobs\": len(jobs), \"elapsed\": elapsed, \"error\": error})\n",
    "                elapsed, error, solverName = profile(SMS_LP_minWeightedSum_timeIndexed(deepcopy(jobs)), UpdateValue(), GurobiSolver())\n",
    "                writer.writerow({\"solver\": solverName, \"jobs\": len(jobs), \"elapsed\": elapsed, \"error\": error})\n",
    "\n",
    "def plotDataset(dumpName):\n",
    "       times_gurobi = []\n",
    "       times_cbnb = []\n",
    "       n_jobs = []\n",
    "       \n",
    "       with open(dumpName + \".csv\", \"r\") as data:\n",
    "        reader = csv.DictReader(data, delimiter=',')\n",
    "        for row in reader:\n",
    "            try:\n",
    "                elapsed = float(row[\"elapsed\"])\n",
    "            except ValueError:\n",
    "                elapsed = np.nan\n",
    "            solver = row[\"solver\"]\n",
    "            n = int(row[\"jobs\"])\n",
    "\n",
    "            if solver == \"GurobiSolver\":\n",
    "                times_gurobi.append(elapsed)\n",
    "            elif solver == \"CombinatorialBnB\":\n",
    "                times_cbnb.append(elapsed)\n",
    "            if n not in n_jobs:\n",
    "                n_jobs.append(n)\n",
    "\n",
    "       # plot\n",
    "       fig, ax = plt.subplots()\n",
    "\n",
    "       ax.plot(n_jobs, times_gurobi, label=\"Gurobi\")\n",
    "       ax.plot(n_jobs, times_cbnb, label=\"CBnB\")\n",
    "       ax.legend()\n",
    "\n",
    "       plt.show()\n",
    "\n",
    "\n",
    "\n",
    "def generateJobs(n, p=None, r=None, w=None, rngMethod=None, bounds=(0,1), **kwargs):\n",
    "\n",
    "    def generateValue(value, rngMethod, default, bounds):\n",
    "\n",
    "        if value is None and rngMethod is None:\n",
    "            return default\n",
    "        elif value is None and rngMethod is not None:\n",
    "            return rngMethod(**kwargs) * (bounds[1] - bounds[0]) + bounds[0]\n",
    "        else:\n",
    "            return value\n",
    "\n",
    "    \n",
    "    return [Job(id=j, processingTime=generateValue(p, rngMethod, 1, bounds), releaseTime=generateValue(r, rngMethod, 0, bounds), weight=generateValue(w, rngMethod, 1, bounds)) for j in range(n)]\n",
    "\n",
    "@func_set_timeout(timeout=TIMEOUT)\n",
    "def profileSolverCallStack(p, output):\n",
    "    profileFileName = f\"{output}.prof\"\n",
    "    profile = Profile()\n",
    "    profile.runctx(cmd=\"p.solve()\", globals=globals(), locals={\"p\":p})\n",
    "    stats = profile.getstats()\n",
    "    convert(stats, f\"{output}.kgrind\")\n"
   ]
  },
  {
   "cell_type": "code",
   "execution_count": 9,
   "metadata": {},
   "outputs": [],
   "source": [
    "# BnB vs Gurobi maximum input dimension\n",
    "\n",
    "N_JOBS = (5, 10, 20, 50, 100, 200, 500, 1000, 2000, 5000, 10000, 20000, 50000)\n",
    "DUMPNAME = f'inputDimension_5-50000_10m'"
   ]
  },
  {
   "cell_type": "code",
   "execution_count": 5,
   "metadata": {},
   "outputs": [],
   "source": [
    "# dummy test\n",
    "N_JOBS = (5, 10)\n",
    "DUMPNAME = f'test'"
   ]
  },
  {
   "cell_type": "code",
   "execution_count": 5,
   "metadata": {},
   "outputs": [],
   "source": [
    "# BnB vs Gurobi execution times\n",
    "\n",
    "N_JOBS = (i for i in range (1, 21) for j in range (1000))\n",
    "DUMPNAME = f'inputDimension_1-20'"
   ]
  },
  {
   "cell_type": "code",
   "execution_count": 6,
   "metadata": {},
   "outputs": [],
   "source": [
    "job_sequences = [generateJobs(n, p=1, r=0, w=1) for n in N_JOBS]"
   ]
  },
  {
   "cell_type": "code",
   "execution_count": 12,
   "metadata": {},
   "outputs": [],
   "source": [
    "# Random release time and weights\n",
    "\n",
    "from numpy.random import default_rng\n",
    "\n",
    "rng = default_rng(13061998)\n",
    "job_sequences = [generateJobs(n=20, p=10, rngMethod=rng.uniform, bounds=(0, 50)) for i in range(1000)]\n",
    "DUMPNAME = \"randomProcessReleaseTime_20\""
   ]
  },
  {
   "cell_type": "code",
   "execution_count": 13,
   "metadata": {},
   "outputs": [],
   "source": [
    "profileNJobs(job_sequences, DUMPNAME)"
   ]
  },
  {
   "cell_type": "code",
   "execution_count": 16,
   "metadata": {},
   "outputs": [],
   "source": [
    "from numpy.random import default_rng\n",
    "\n",
    "rng = default_rng(462001)\n",
    "n = 100\n",
    "jobs = generateJobs(n, p=10, rngMethod=rng.uniform, bounds=(0, n))"
   ]
  },
  {
   "cell_type": "code",
   "execution_count": 15,
   "metadata": {},
   "outputs": [],
   "source": [
    "# build problem using bnb scheduler\n",
    "p = SingleMachineScheduling(jobs, Machine(0))\n",
    "p.objective = WeightedCompletionsSum()\n",
    "p.solver = CombinatorialBnB(SPTFRuleScheduler)\n",
    "\n",
    "# call profiler solver call stack\n",
    "profileSolverCallStack(p, \"bnb_100_callstack\")\n"
   ]
  }
 ],
 "metadata": {
  "kernelspec": {
   "display_name": "Python 3.10.6 64-bit",
   "language": "python",
   "name": "python3"
  },
  "language_info": {
   "codemirror_mode": {
    "name": "ipython",
    "version": 3
   },
   "file_extension": ".py",
   "mimetype": "text/x-python",
   "name": "python",
   "nbconvert_exporter": "python",
   "pygments_lexer": "ipython3",
   "version": "3.10.7"
  },
  "orig_nbformat": 4,
  "vscode": {
   "interpreter": {
    "hash": "e7370f93d1d0cde622a1f8e1c04877d8463912d04d973331ad4851f04de6915a"
   }
  }
 },
 "nbformat": 4,
 "nbformat_minor": 2
}
