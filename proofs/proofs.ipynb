{
 "cells": [
  {
   "cell_type": "code",
   "execution_count": 1,
   "metadata": {},
   "outputs": [],
   "source": [
    "import sys\n",
    "sys.path.append(\"../\")\n",
    "\n",
    "from logic.sms.entities import SingleMachineScheduling, Job, Machine\n",
    "from logic.sms.cbnb import CombinatorialBnB\n",
    "from logic.sms.sptf import SPTFRuleScheduler\n",
    "from logic.sms.completions_sum import WeightedCompletionsSum\n",
    "from logic.sms.gurobi import GurobiSolver, UpdateValue, SMS_LP_minWeightedSum_timeIndexed\n",
    "\n",
    "from copy import deepcopy\n",
    "from time import time\n",
    "import csv\n",
    "from func_timeout import func_set_timeout, FunctionTimedOut\n",
    "import matplotlib.pyplot as plt\n",
    "import numpy as np\n",
    "from timeit import timeit\n",
    "from cProfile import Profile\n",
    "from pstats import Stats\n",
    "from pyprof2calltree import convert, visualize\n",
    "\n",
    "TIMEOUT = 60 * 10    # 10 minutes\n",
    "\n",
    "def profile(p, objective, solver):\n",
    "    \n",
    "    error = None\n",
    "    elapsed = None\n",
    "    solverName = type(solver).__name__\n",
    "\n",
    "    p.objective = objective\n",
    "    p.solver = solver\n",
    "    try:\n",
    "        timeit_timeout = func_set_timeout(TIMEOUT)(timeit)\n",
    "        elapsed = timeit_timeout(\"p.solve\", globals={\"p\": p}, number=1)\n",
    "        if p.value == None or p.value == np.inf or p.value == -np.inf or np.isnan(p.value):\n",
    "             error = p.value\n",
    "    except (Exception, FunctionTimedOut) as e:\n",
    "        error = e\n",
    "    return elapsed, error, solverName\n",
    "\n",
    "def profileNJobs(job_sequences, dumpName):\n",
    "        with open(dumpName + \".csv\", \"w\") as output:\n",
    "            writer = csv.DictWriter(output, [\"solver\", \"jobs\", \"elapsed\", \"error\"], lineterminator='\\n', delimiter=',')\n",
    "            writer.writeheader()\n",
    "            for jobs in job_sequences:\n",
    "                elapsed, error, solverName = profile(SingleMachineScheduling(deepcopy(jobs), Machine(0)), WeightedCompletionsSum(), CombinatorialBnB(SPTFRuleScheduler))\n",
    "                writer.writerow({\"solver\": solverName, \"jobs\": len(jobs), \"elapsed\": elapsed, \"error\": error})\n",
    "                elapsed, error, solverName = profile(SMS_LP_minWeightedSum_timeIndexed(deepcopy(jobs)), UpdateValue(), GurobiSolver())\n",
    "                writer.writerow({\"solver\": solverName, \"jobs\": len(jobs), \"elapsed\": elapsed, \"error\": error})\n",
    "\n",
    "def generateJobs(n, p=None, r=None, w=None, rngMethod=None, bounds=(0,1), **kwargs):\n",
    "\n",
    "    def generateValue(value, rngMethod, default, bounds):\n",
    "\n",
    "        if value is None and rngMethod is None:\n",
    "            return default\n",
    "        elif value is None and rngMethod is not None:\n",
    "            return rngMethod(**kwargs) * (bounds[1] - bounds[0]) + bounds[0]\n",
    "        else:\n",
    "            return value\n",
    "\n",
    "    \n",
    "    return [Job(id=j, processingTime=generateValue(p, rngMethod, 1, bounds), releaseTime=generateValue(r, rngMethod, 0, bounds), weight=generateValue(w, rngMethod, 1, bounds)) for j in range(n)]\n",
    "\n",
    "@func_set_timeout(timeout=TIMEOUT)\n",
    "def profileSolverCallStack(p, output):\n",
    "    profileFileName = f\"{output}.prof\"\n",
    "    profile = Profile()\n",
    "    profile.runctx(cmd=\"p.solve()\", globals=globals(), locals={\"p\":p})\n",
    "    profile.print_stats()\n",
    "    stats = profile.getstats()\n",
    "    convert(stats, f\"{output}.kgrind\")\n"
   ]
  },
  {
   "cell_type": "code",
   "execution_count": 9,
   "metadata": {},
   "outputs": [],
   "source": [
    "# BnB vs Gurobi maximum input dimension\n",
    "\n",
    "N_JOBS = (5, 10, 20, 50, 100, 200, 500, 1000, 2000, 5000, 10000, 20000, 50000)\n",
    "DUMPNAME = f'inputDimension_5-50000_10m'"
   ]
  },
  {
   "cell_type": "code",
   "execution_count": 5,
   "metadata": {},
   "outputs": [],
   "source": [
    "# dummy test\n",
    "N_JOBS = (5, 10)\n",
    "DUMPNAME = f'test'"
   ]
  },
  {
   "cell_type": "code",
   "execution_count": 5,
   "metadata": {},
   "outputs": [],
   "source": [
    "# BnB vs Gurobi execution times\n",
    "\n",
    "N_JOBS = (i for i in range (1, 21) for j in range (1000))\n",
    "DUMPNAME = f'inputDimension_1-20'"
   ]
  },
  {
   "cell_type": "code",
   "execution_count": 6,
   "metadata": {},
   "outputs": [],
   "source": [
    "job_sequences = [generateJobs(n, p=1, r=0, w=1) for n in N_JOBS]"
   ]
  },
  {
   "cell_type": "code",
   "execution_count": 12,
   "metadata": {},
   "outputs": [],
   "source": [
    "# Random release time and weights\n",
    "\n",
    "from numpy.random import default_rng\n",
    "\n",
    "rng = default_rng(13061998)\n",
    "job_sequences = [generateJobs(n=20, p=10, rngMethod=rng.uniform, bounds=(0, 50)) for i in range(1000)]\n",
    "DUMPNAME = \"randomProcessReleaseTime_20\""
   ]
  },
  {
   "cell_type": "code",
   "execution_count": 13,
   "metadata": {},
   "outputs": [],
   "source": [
    "profileNJobs(job_sequences, DUMPNAME)"
   ]
  },
  {
   "cell_type": "code",
   "execution_count": 2,
   "metadata": {},
   "outputs": [],
   "source": [
    "from numpy.random import default_rng\n",
    "\n",
    "rng = default_rng(462001)\n",
    "n = 100\n",
    "jobs = generateJobs(n, p=10, rngMethod=rng.uniform, bounds=(0, n))"
   ]
  },
  {
   "cell_type": "code",
   "execution_count": 3,
   "metadata": {},
   "outputs": [
    {
     "name": "stdout",
     "output_type": "stream",
     "text": [
      "         145020799 function calls (119539094 primitive calls) in 75.408 seconds\n",
      "\n",
      "   Ordered by: standard name\n",
      "\n",
      "   ncalls  tottime  percall  cumtime  percall filename:lineno(function)\n",
      "        1    0.000    0.000   75.408   75.408 <string>:1(<module>)\n",
      "        1    0.126    0.126   74.907   74.907 bnb.py:31(__solve_bnb)\n",
      "        1    0.000    0.000   75.408   75.408 bnb.py:41(__call__)\n",
      "       57    0.185    0.003   29.052    0.510 cbnb.py:10(branch)\n",
      "     5644    0.038    0.000    0.485    0.000 cbnb.py:52(isDominated)\n",
      "     5644    0.159    0.000   46.157    0.008 cbnb.py:65(isFathomed)\n",
      "     5645    0.166    0.000    0.234    0.000 completions_sum.py:6(__call__)\n",
      "22054997/11288   26.287    0.000   55.712    0.005 copy.py:128(deepcopy)\n",
      " 18577393    1.933    0.000    1.933    0.000 copy.py:182(_deepcopy_atomic)\n",
      "1140188/11388    3.689    0.000   54.549    0.005 copy.py:201(_deepcopy_list)\n",
      "1151876/11288    5.952    0.000   55.422    0.005 copy.py:227(_deepcopy_dict)\n",
      "  3466316    1.869    0.000    2.631    0.000 copy.py:243(_keep_alive)\n",
      "1174252/11288    3.590    0.000   55.583    0.005 copy.py:259(_reconstruct)\n",
      "  2348504    0.640    0.000    2.528    0.000 copy.py:264(<genexpr>)\n",
      "  1174152    0.480    0.000    0.647    0.000 copyreg.py:100(__newobj__)\n",
      "        8    0.000    0.000    0.000    0.000 copyreg.py:109(_slotnames)\n",
      "     5644    0.013    0.000    0.013    0.000 entities.py:42(__init__)\n",
      "        1    0.000    0.000    0.000    0.000 enum.py:359(__call__)\n",
      "        1    0.000    0.000    0.000    0.000 enum.py:678(__new__)\n",
      "     5644    0.005    0.000    0.005    0.000 node.py:129(predecessor)\n",
      "     5645    0.002    0.000    0.002    0.000 node.py:135(set_predecessor)\n",
      "    11288    0.006    0.000    0.006    0.000 node.py:139(successors)\n",
      "     5644    0.010    0.000    0.022    0.000 node.py:164(update_successors)\n",
      "     5644    0.004    0.000    0.006    0.000 node.py:172(_manipulator_append)\n",
      "    33769    0.008    0.000    0.008    0.000 node.py:207(identifier)\n",
      "     5645    0.023    0.000    0.027    0.000 node.py:46(__init__)\n",
      "     5645    0.002    0.000    0.002    0.000 node.py:77(set_initial_tree_id)\n",
      "     5645    0.003    0.000    0.004    0.000 node.py:81(_set_identifier)\n",
      "     5644    0.006    0.000    0.006    0.000 problem.py:54(solver)\n",
      "   5645/1    0.033    0.000   75.408   75.408 problem.py:58(solve)\n",
      "     5644   18.076    0.003   18.351    0.003 sptf.py:8(__call__)\n",
      "   575789    0.200    0.000    0.200    0.000 tree.py:146(__getitem__)\n",
      "     5645    0.004    0.000    0.007    0.000 tree.py:274(__update_bpointer)\n",
      "     5645    0.007    0.000    0.030    0.000 tree.py:278(__update_fpointer)\n",
      "     5645    0.021    0.000    0.069    0.000 tree.py:284(add_node)\n",
      "     5645    0.001    0.000    0.001    0.000 tree.py:362(contains)\n",
      "        1    0.000    0.000    0.000    0.000 tree.py:366(create_node)\n",
      "        1    0.000    0.000    0.000    0.000 tree.py:481(get_node)\n",
      "     5644    0.037    0.000    0.443    0.000 tree.py:858(siblings)\n",
      "     5644    0.198    0.000    0.385    0.000 tree.py:868(<listcomp>)\n",
      "        1    0.000    0.000    0.000    0.000 uuid.py:138(__init__)\n",
      "        1    0.000    0.000    0.000    0.000 uuid.py:279(__str__)\n",
      "        1    0.000    0.000    0.000    0.000 uuid.py:666(uuid1)\n",
      "  1174152    0.168    0.000    0.168    0.000 {built-in method __new__ of type object at 0x7f4867f430a0}\n",
      "        1    0.000    0.000    0.000    0.000 {built-in method _uuid.generate_time_safe}\n",
      "        1    0.000    0.000   75.408   75.408 {built-in method builtins.exec}\n",
      "  2348504    0.607    0.000    0.607    0.000 {built-in method builtins.getattr}\n",
      "  1151684    0.184    0.000    0.184    0.000 {built-in method builtins.hasattr}\n",
      " 28998917    3.069    0.000    3.069    0.000 {built-in method builtins.id}\n",
      "  2337223    0.397    0.000    0.397    0.000 {built-in method builtins.isinstance}\n",
      "  1208216    0.163    0.000    0.163    0.000 {built-in method builtins.issubclass}\n",
      "   578390    0.057    0.000    0.057    0.000 {built-in method builtins.len}\n",
      "     5644    0.006    0.000    0.006    0.000 {built-in method builtins.locals}\n",
      "     5589    0.008    0.000    0.008    0.000 {built-in method builtins.max}\n",
      "   567100    0.140    0.000    0.140    0.000 {built-in method builtins.min}\n",
      "     5645    0.009    0.000    0.009    0.000 {built-in method builtins.sum}\n",
      "        1    0.000    0.000    0.000    0.000 {built-in method from_bytes}\n",
      "  1174252    0.794    0.000    0.794    0.000 {method '__reduce_ex__' of 'object' objects}\n",
      "  6044894    0.688    0.000    0.688    0.000 {method 'append' of 'list' objects}\n",
      "        1    0.000    0.000    0.000    0.000 {method 'count' of 'list' objects}\n",
      "        1    0.000    0.000    0.000    0.000 {method 'disable' of '_lsprof.Profiler' objects}\n",
      " 45278602    4.725    0.000    4.725    0.000 {method 'get' of 'dict' objects}\n",
      "        8    0.000    0.000    0.000    0.000 {method 'get' of 'mappingproxy' objects}\n",
      "     5644    0.008    0.000    0.008    0.000 {method 'index' of 'list' objects}\n",
      "  1151876    0.182    0.000    0.182    0.000 {method 'items' of 'dict' objects}\n",
      "     5644    0.002    0.000    0.002    0.000 {method 'pop' of 'list' objects}\n",
      "  1157321    0.425    0.000    0.425    0.000 {method 'update' of 'dict' objects}\n",
      "\n",
      "\n"
     ]
    }
   ],
   "source": [
    "# build problem using bnb scheduler\n",
    "p = SingleMachineScheduling(jobs, Machine(0))\n",
    "p.objective = WeightedCompletionsSum()\n",
    "p.solver = CombinatorialBnB(SPTFRuleScheduler)\n",
    "\n",
    "# call profiler solver call stack\n",
    "profileSolverCallStack(p, \"bnb_100_callstack\")\n"
   ]
  }
 ],
 "metadata": {
  "kernelspec": {
   "display_name": "Python 3.10.6 64-bit",
   "language": "python",
   "name": "python3"
  },
  "language_info": {
   "codemirror_mode": {
    "name": "ipython",
    "version": 3
   },
   "file_extension": ".py",
   "mimetype": "text/x-python",
   "name": "python",
   "nbconvert_exporter": "python",
   "pygments_lexer": "ipython3",
   "version": "3.10.7"
  },
  "orig_nbformat": 4,
  "vscode": {
   "interpreter": {
    "hash": "e7370f93d1d0cde622a1f8e1c04877d8463912d04d973331ad4851f04de6915a"
   }
  }
 },
 "nbformat": 4,
 "nbformat_minor": 2
}
